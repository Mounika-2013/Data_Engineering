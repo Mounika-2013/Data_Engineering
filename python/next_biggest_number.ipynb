{
 "cells": [
  {
   "cell_type": "code",
   "execution_count": 171,
   "metadata": {},
   "outputs": [],
   "source": [
    "from itertools import permutations\n",
    "def next_biggest_number(num):\n",
    "    #Integer converted to string and looped by sorting\n",
    "    num_list_str = sorted([i for i in str(num)], reverse=True)\n",
    "    #converted list of str to list of integer\n",
    "    num_list = list(map(int,num_list_str))\n",
    "    #print(num_list)\n",
    "    #print(num_list)\n",
    "    #Tuples with all the permutations inside a list\n",
    "    perm_num = list(permutations(num_list))\n",
    "    #print(perm_num)\n",
    "    empty_list = []\n",
    "    for each_num in perm_num:\n",
    "        empty_list.append(int(''.join(map(str, each_num))))\n",
    "    #print(empty_list)\n",
    "    result = sorted(empty_list)\n",
    "    #print(result)\n",
    "    final_result = []\n",
    "    for number in empty_list:\n",
    "        if len(str(number)) == len(str(num)):\n",
    "            final_result.append(number)\n",
    "    final_result = sorted(final_result)\n",
    "    #print(final_result)\n",
    "    result = []\n",
    "    for val in final_result:\n",
    "        if val>num:\n",
    "            result.append(val)\n",
    "            return (sorted(result)[0])\n",
    "        elif val== final_result[-1]:\n",
    "            return (-1)\n",
    "    "
   ]
  },
  {
   "cell_type": "code",
   "execution_count": 172,
   "metadata": {
    "scrolled": false
   },
   "outputs": [
    {
     "data": {
      "text/plain": [
       "-1"
      ]
     },
     "execution_count": 172,
     "metadata": {},
     "output_type": "execute_result"
    }
   ],
   "source": [
    "next_biggest_number(2211)"
   ]
  },
  {
   "cell_type": "code",
   "execution_count": 166,
   "metadata": {},
   "outputs": [
    {
     "data": {
      "text/plain": [
       "24809"
      ]
     },
     "execution_count": 166,
     "metadata": {},
     "output_type": "execute_result"
    }
   ],
   "source": [
    "#next_biggest_number(12) #== 21\n",
    "#next_biggest_number(123) #== 132)\n",
    "next_biggest_number(67809) #== 67890)\n",
    "next_biggest_number(21) #== -1)\n",
    "next_biggest_number(54321) #== -1)\n",
    "next_biggest_number(52210) #== -1)\n",
    "next_biggest_number(95701) #== 95710)\n",
    "next_biggest_number(71305) #== 71350)\n",
    "next_biggest_number(6358) #== 6385)\n",
    "next_biggest_number(25437) #== 25473)\n",
    "next_biggest_number(49893) #== 49938)\n",
    "next_biggest_number(76778) #== 76787)\n",
    "next_biggest_number(2372) #== 2723)\n",
    "next_biggest_number(45071) #== 45107)\n",
    "next_biggest_number(31233) #== 31323)\n",
    "next_biggest_number(50401) #== 50410)\n",
    "next_biggest_number(57067) #== 57076)\n",
    "next_biggest_number(40272) #== 40722)\n",
    "next_biggest_number(54998) #== 58499)\n",
    "next_biggest_number(22437) #== 22473)\n",
    "next_biggest_number(53510) #== 55013)\n",
    "next_biggest_number(78263) #== 78326)\n",
    "next_biggest_number(42661) #== 46126)\n",
    "next_biggest_number(45118) #== 45181)\n",
    "next_biggest_number(26075) #== 26507)\n",
    "next_biggest_number(93932) #== 99233)\n",
    "next_biggest_number(84252) #== 84522)\n",
    "next_biggest_number(33203) #== 33230)\n",
    "next_biggest_number(98037) #== 98073)\n",
    "next_biggest_number(74041) #== 74104)\n",
    "next_biggest_number(11856) #== 11865)\n",
    "next_biggest_number(47998) #== 48799)\n",
    "next_biggest_number(36708) #== 36780)\n",
    "next_biggest_number(93802) #== 93820)\n",
    "next_biggest_number(2902) #== 2920)\n",
    "next_biggest_number(71116) #== 71161)\n",
    "next_biggest_number(76532) #== -1)\n",
    "next_biggest_number(81848) #== 81884)\n",
    "next_biggest_number(93493) #== 93934)\n",
    "next_biggest_number(16332) #== 21336)\n",
    "next_biggest_number(97939) #== 97993)\n",
    "next_biggest_number(4386) #== 4638)\n",
    "next_biggest_number(6950) #== 9056)\n",
    "next_biggest_number(92232) #== 92322)\n",
    "next_biggest_number(39527) #== 39572)\n",
    "next_biggest_number(41766) #== 46167)\n",
    "next_biggest_number(3399) #== 3939)\n",
    "next_biggest_number(77957) #== 77975)\n",
    "next_biggest_number(81899) #== 81989)\n",
    "next_biggest_number(2403) #== 2430)\n",
    "next_biggest_number(23817) #== 23871)\n",
    "next_biggest_number(85520) #== -1)\n",
    "next_biggest_number(42882) #== 48228)\n",
    "next_biggest_number(56072) #== 56207)\n",
    "next_biggest_number(89101) #== 89110)\n",
    "next_biggest_number(25384) #== 25438)\n",
    "next_biggest_number(54443) #== -1)\n",
    "next_biggest_number(49459) #== 49495)\n",
    "next_biggest_number(84803) #== 84830)\n",
    "next_biggest_number(50766) #== 56067)\n",
    "next_biggest_number(43770) #== 47037)\n",
    "next_biggest_number(33285) #== 33528)\n",
    "next_biggest_number(42083) #== 42308)\n",
    "next_biggest_number(47482) #== 47824)\n",
    "next_biggest_number(45634) #== 45643)\n",
    "next_biggest_number(73784) #== 73847)\n",
    "next_biggest_number(97071) #== 97107)\n",
    "next_biggest_number(81003) #== 81030)\n",
    "next_biggest_number(32619) #== 32691)\n",
    "next_biggest_number(36448) #== 36484)\n",
    "next_biggest_number(22368) #== 22386)\n",
    "next_biggest_number(22794) #== 22947)\n",
    "next_biggest_number(58927) #== 58972)\n",
    "next_biggest_number(73399) #== 73939)\n",
    "next_biggest_number(81830) #== 83018)\n",
    "next_biggest_number(49685) #== 49856\n",
    "next_biggest_number(73251) #== 73512\n",
    "next_biggest_number(44944) #== 49444\n",
    "next_biggest_number(75519) #== 75591\n",
    "next_biggest_number(45632) #== 46235\n",
    "next_biggest_number(27590) #== 27905\n",
    "next_biggest_number(7251) #== 7512\n",
    "next_biggest_number(90251) #== 90512\n",
    "next_biggest_number(98728) #== 98782\n",
    "next_biggest_number(51811) #== 58111\n",
    "next_biggest_number(59358) #== 59385\n",
    "next_biggest_number(24098) #== 24809\n",
    "#next_biggest_number(59176) #== 59617\n",
    "#next_biggest_number(54917) #== 54971\n",
    "#next_biggest_number(8165) #== 8516\n",
    "#next_biggest_number(34178) #== 34187\n",
    "#next_biggest_number(71652) #== 72156\n",
    "#next_biggest_number(26168) #== 26186\n",
    "#next_biggest_number(49396) #== 49639\n",
    "#next_biggest_number(78946) #== 78964\n",
    "#next_biggest_number(33316) #== 33361\n",
    "#next_biggest_number(15484) #== 15844\n",
    "#next_biggest_number(2211) #== -1\n",
    "#next_biggest_number(97203) #== 97230\n",
    "#next_biggest_number(70956) #== 70965\n",
    "\n",
    "\n"
   ]
  },
  {
   "cell_type": "code",
   "execution_count": null,
   "metadata": {},
   "outputs": [],
   "source": []
  },
  {
   "cell_type": "code",
   "execution_count": null,
   "metadata": {},
   "outputs": [],
   "source": []
  }
 ],
 "metadata": {
  "kernelspec": {
   "display_name": "Python 3",
   "language": "python",
   "name": "python3"
  },
  "language_info": {
   "codemirror_mode": {
    "name": "ipython",
    "version": 3
   },
   "file_extension": ".py",
   "mimetype": "text/x-python",
   "name": "python",
   "nbconvert_exporter": "python",
   "pygments_lexer": "ipython3",
   "version": "3.8.5"
  }
 },
 "nbformat": 4,
 "nbformat_minor": 4
}
